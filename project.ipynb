{
 "cells": [
  {
   "cell_type": "markdown",
   "metadata": {},
   "source": [
    "# CS210 Spring 2019 - Sample Final Project \n",
    "# Movie Preferences \n",
    "\n",
    "### Movie Rating Data\n",
    "\n",
    "#### Nur Hüseyin - 18017"
   ]
  },
  {
   "cell_type": "markdown",
   "metadata": {},
   "source": [
    "## Project Description\n",
    "\n",
    "In this project, my goal is to analyze and display statistical facts in different movie genres that indicates people who ranked high for action movies will rank mostly low for drama movies. I will explore how ratings are grouped in certain movie genres by choosing specific genres. \n",
    "In conclusion, I will group some of the movie genres and explore their correlation with ratings.\n",
    "\n",
    "## Dataset\n",
    "\n",
    "This dataset includes three raw csv files named as movies.csv, ratings.csv and tags.csv. I will be using movies and ratings files. Their manipulation will be explained in detailed below."
   ]
  },
  {
   "cell_type": "code",
   "execution_count": 45,
   "metadata": {},
   "outputs": [],
   "source": [
    "import pandas as pd\n",
    "import numpy as np\n",
    "import matplotlib.pyplot as plt\n",
    "from scipy import stats\n",
    "from datetime import datetime\n",
    "import seaborn as sns  # a visualization library based on matplotlib\n",
    "from datetime import datetime\n",
    "\n",
    "import warnings\n",
    "warnings.filterwarnings('ignore')\n",
    "\n",
    "sns.set(style=\"darkgrid\")\n",
    "\n",
    "%matplotlib inline"
   ]
  },
  {
   "cell_type": "code",
   "execution_count": 46,
   "metadata": {},
   "outputs": [],
   "source": [
    "from os.path import join\n",
    "from pprint import pprint"
   ]
  },
  {
   "cell_type": "code",
   "execution_count": 47,
   "metadata": {},
   "outputs": [],
   "source": [
    "path = \"./data\"\n",
    "movies_file = \"movies.csv\"\n",
    "ratings_file = \"ratings.csv\"\n"
   ]
  },
  {
   "cell_type": "code",
   "execution_count": 48,
   "metadata": {},
   "outputs": [
    {
     "data": {
      "text/html": [
       "<div>\n",
       "<style scoped>\n",
       "    .dataframe tbody tr th:only-of-type {\n",
       "        vertical-align: middle;\n",
       "    }\n",
       "\n",
       "    .dataframe tbody tr th {\n",
       "        vertical-align: top;\n",
       "    }\n",
       "\n",
       "    .dataframe thead th {\n",
       "        text-align: right;\n",
       "    }\n",
       "</style>\n",
       "<table border=\"1\" class=\"dataframe\">\n",
       "  <thead>\n",
       "    <tr style=\"text-align: right;\">\n",
       "      <th></th>\n",
       "      <th>movieId</th>\n",
       "      <th>title</th>\n",
       "      <th>genres</th>\n",
       "    </tr>\n",
       "  </thead>\n",
       "  <tbody>\n",
       "    <tr>\n",
       "      <th>0</th>\n",
       "      <td>1</td>\n",
       "      <td>Toy Story (1995)</td>\n",
       "      <td>Adventure|Animation|Children|Comedy|Fantasy</td>\n",
       "    </tr>\n",
       "    <tr>\n",
       "      <th>1</th>\n",
       "      <td>2</td>\n",
       "      <td>Jumanji (1995)</td>\n",
       "      <td>Adventure|Children|Fantasy</td>\n",
       "    </tr>\n",
       "    <tr>\n",
       "      <th>2</th>\n",
       "      <td>3</td>\n",
       "      <td>Grumpier Old Men (1995)</td>\n",
       "      <td>Comedy|Romance</td>\n",
       "    </tr>\n",
       "    <tr>\n",
       "      <th>3</th>\n",
       "      <td>4</td>\n",
       "      <td>Waiting to Exhale (1995)</td>\n",
       "      <td>Comedy|Drama|Romance</td>\n",
       "    </tr>\n",
       "    <tr>\n",
       "      <th>4</th>\n",
       "      <td>5</td>\n",
       "      <td>Father of the Bride Part II (1995)</td>\n",
       "      <td>Comedy</td>\n",
       "    </tr>\n",
       "  </tbody>\n",
       "</table>\n",
       "</div>"
      ],
      "text/plain": [
       "   movieId                               title  \\\n",
       "0        1                    Toy Story (1995)   \n",
       "1        2                      Jumanji (1995)   \n",
       "2        3             Grumpier Old Men (1995)   \n",
       "3        4            Waiting to Exhale (1995)   \n",
       "4        5  Father of the Bride Part II (1995)   \n",
       "\n",
       "                                        genres  \n",
       "0  Adventure|Animation|Children|Comedy|Fantasy  \n",
       "1                   Adventure|Children|Fantasy  \n",
       "2                               Comedy|Romance  \n",
       "3                         Comedy|Drama|Romance  \n",
       "4                                       Comedy  "
      ]
     },
     "execution_count": 48,
     "metadata": {},
     "output_type": "execute_result"
    }
   ],
   "source": [
    "df_movies = pd.read_csv(join(path, movies_file))\n",
    "df_movies.head()"
   ]
  },
  {
   "cell_type": "markdown",
   "metadata": {},
   "source": [
    "movie.csv datatset has movieId, title and genres information in it. We use movieId and genres. We will have connection between other data from movieId information.\n",
    "ratings data has userId, movieId and rating information."
   ]
  },
  {
   "cell_type": "code",
   "execution_count": 49,
   "metadata": {},
   "outputs": [
    {
     "data": {
      "text/html": [
       "<div>\n",
       "<style scoped>\n",
       "    .dataframe tbody tr th:only-of-type {\n",
       "        vertical-align: middle;\n",
       "    }\n",
       "\n",
       "    .dataframe tbody tr th {\n",
       "        vertical-align: top;\n",
       "    }\n",
       "\n",
       "    .dataframe thead th {\n",
       "        text-align: right;\n",
       "    }\n",
       "</style>\n",
       "<table border=\"1\" class=\"dataframe\">\n",
       "  <thead>\n",
       "    <tr style=\"text-align: right;\">\n",
       "      <th></th>\n",
       "      <th>userId</th>\n",
       "      <th>movieId</th>\n",
       "      <th>rating</th>\n",
       "      <th>timestamp</th>\n",
       "    </tr>\n",
       "  </thead>\n",
       "  <tbody>\n",
       "    <tr>\n",
       "      <th>0</th>\n",
       "      <td>1</td>\n",
       "      <td>2</td>\n",
       "      <td>3.5</td>\n",
       "      <td>1112486027</td>\n",
       "    </tr>\n",
       "    <tr>\n",
       "      <th>1</th>\n",
       "      <td>1</td>\n",
       "      <td>29</td>\n",
       "      <td>3.5</td>\n",
       "      <td>1112484676</td>\n",
       "    </tr>\n",
       "    <tr>\n",
       "      <th>2</th>\n",
       "      <td>1</td>\n",
       "      <td>32</td>\n",
       "      <td>3.5</td>\n",
       "      <td>1112484819</td>\n",
       "    </tr>\n",
       "    <tr>\n",
       "      <th>3</th>\n",
       "      <td>1</td>\n",
       "      <td>47</td>\n",
       "      <td>3.5</td>\n",
       "      <td>1112484727</td>\n",
       "    </tr>\n",
       "    <tr>\n",
       "      <th>4</th>\n",
       "      <td>1</td>\n",
       "      <td>50</td>\n",
       "      <td>3.5</td>\n",
       "      <td>1112484580</td>\n",
       "    </tr>\n",
       "  </tbody>\n",
       "</table>\n",
       "</div>"
      ],
      "text/plain": [
       "   userId  movieId  rating   timestamp\n",
       "0       1        2     3.5  1112486027\n",
       "1       1       29     3.5  1112484676\n",
       "2       1       32     3.5  1112484819\n",
       "3       1       47     3.5  1112484727\n",
       "4       1       50     3.5  1112484580"
      ]
     },
     "execution_count": 49,
     "metadata": {},
     "output_type": "execute_result"
    }
   ],
   "source": [
    "df_ratings = pd.read_csv(join(path, ratings_file), nrows=100000)\n",
    "df_ratings.head()"
   ]
  },
  {
   "cell_type": "code",
   "execution_count": 50,
   "metadata": {},
   "outputs": [
    {
     "name": "stdout",
     "output_type": "stream",
     "text": [
      "number of rows in movies data: 27278, number of columns in movies data: 3\n"
     ]
    }
   ],
   "source": [
    "n_rows, n_columns = df_movies.shape  # get the shape of dataframe\n",
    "print(\"number of rows in movies data: {}, number of columns in movies data: {}\".format(n_rows, n_columns))"
   ]
  },
  {
   "cell_type": "code",
   "execution_count": 51,
   "metadata": {},
   "outputs": [
    {
     "name": "stdout",
     "output_type": "stream",
     "text": [
      "number of rows in ratings data: 100000, number of columns in ratings data: 4\n"
     ]
    }
   ],
   "source": [
    "n_rows, n_columns = df_ratings.shape  # get the shape of dataframe\n",
    "print(\"number of rows in ratings data: {}, number of columns in ratings data: {}\".format(n_rows, n_columns))"
   ]
  },
  {
   "cell_type": "code",
   "execution_count": 52,
   "metadata": {},
   "outputs": [
    {
     "data": {
      "image/png": "[encoded data removed]",
      "text/plain": [
       "<Figure size 432x288 with 1 Axes>"
      ]
     },
     "metadata": {
      "needs_background": "light"
     },
     "output_type": "display_data"
    }
   ],
   "source": [
    "sns.distplot(df_ratings[\"rating\"].values, norm_hist=True)  # games played\n",
    "\n",
    "plt.xlabel(\"rating\")\n",
    "plt.title(\"Distribution of Ratings\")\n",
    "plt.show()"
   ]
  },
  {
   "cell_type": "code",
   "execution_count": 53,
   "metadata": {},
   "outputs": [
    {
     "data": {
      "text/html": [
       "<div>\n",
       "<style scoped>\n",
       "    .dataframe tbody tr th:only-of-type {\n",
       "        vertical-align: middle;\n",
       "    }\n",
       "\n",
       "    .dataframe tbody tr th {\n",
       "        vertical-align: top;\n",
       "    }\n",
       "\n",
       "    .dataframe thead th {\n",
       "        text-align: right;\n",
       "    }\n",
       "</style>\n",
       "<table border=\"1\" class=\"dataframe\">\n",
       "  <thead>\n",
       "    <tr style=\"text-align: right;\">\n",
       "      <th></th>\n",
       "      <th>userId</th>\n",
       "      <th>movieId</th>\n",
       "      <th>rating</th>\n",
       "    </tr>\n",
       "  </thead>\n",
       "  <tbody>\n",
       "    <tr>\n",
       "      <th>0</th>\n",
       "      <td>1</td>\n",
       "      <td>2</td>\n",
       "      <td>3.5</td>\n",
       "    </tr>\n",
       "    <tr>\n",
       "      <th>1</th>\n",
       "      <td>1</td>\n",
       "      <td>29</td>\n",
       "      <td>3.5</td>\n",
       "    </tr>\n",
       "    <tr>\n",
       "      <th>2</th>\n",
       "      <td>1</td>\n",
       "      <td>32</td>\n",
       "      <td>3.5</td>\n",
       "    </tr>\n",
       "    <tr>\n",
       "      <th>3</th>\n",
       "      <td>1</td>\n",
       "      <td>47</td>\n",
       "      <td>3.5</td>\n",
       "    </tr>\n",
       "    <tr>\n",
       "      <th>4</th>\n",
       "      <td>1</td>\n",
       "      <td>50</td>\n",
       "      <td>3.5</td>\n",
       "    </tr>\n",
       "  </tbody>\n",
       "</table>\n",
       "</div>"
      ],
      "text/plain": [
       "   userId  movieId  rating\n",
       "0       1        2     3.5\n",
       "1       1       29     3.5\n",
       "2       1       32     3.5\n",
       "3       1       47     3.5\n",
       "4       1       50     3.5"
      ]
     },
     "execution_count": 53,
     "metadata": {},
     "output_type": "execute_result"
    }
   ],
   "source": [
    "df_ratings.drop([\"timestamp\"], axis=1, inplace=True)\n",
    "df_ratings.head()"
   ]
  },
  {
   "cell_type": "markdown",
   "metadata": {},
   "source": [
    "### Preprocessing\n",
    "\n",
    "Since we don't use timestamp information, we delete(drop) it from the dataset. Preprocessing will be faster this way.\n",
    "\n",
    "In the below code segment, we have created 2 new columns. These columns have information about movies only which have genre that includes \"Action\" and \"Drama\" in it. Genres that includes both \"Action\" and \"Drama\" also didn't taken to considiration. Instead of float(\"NaN\") value, I have used 100 because it will be easier in next steps. In addition, since we don't have a rank 100, it is proper to use.\n",
    "\n",
    "In this project, I want to show that people who ranked high for Drama movies voted low for Action movies and vice versa.\n"
   ]
  },
  {
   "cell_type": "code",
   "execution_count": 54,
   "metadata": {
    "scrolled": true
   },
   "outputs": [],
   "source": [
    "df_ratings[\"rating_of_drama_movies\"] = df_ratings[\"rating\"]\n",
    "drama_movies_movieId = df_movies[df_movies[\"genres\"].str.contains(\"Drama\")][\"movieId\"]\n",
    "\n",
    "df_ratings[\"rating_of_action_movies\"] = df_ratings[\"rating\"]\n",
    "action_movies_movieId = df_movies[df_movies[\"genres\"].str.contains(\"Action\")][\"movieId\"]\n",
    "i=0\n",
    "for element in df_ratings.movieId:\n",
    "    if element in drama_movies_movieId:\n",
    "        if element in action_movies_movieId:\n",
    "            df_ratings[\"rating_of_drama_movies\"][i] = 100\n",
    "            df_ratings[\"rating_of_action_movies\"][i] = 100 \n",
    "        else:\n",
    "            df_ratings[\"rating_of_drama_movies\"][i] = df_ratings[\"rating\"][i]\n",
    "            df_ratings[\"rating_of_action_movies\"][i] = 100        \n",
    "    else:\n",
    "        if element in action_movies_movieId:\n",
    "            df_ratings[\"rating_of_drama_movies\"][i] = 100\n",
    "            df_ratings[\"rating_of_action_movies\"][i] = df_ratings[\"rating\"][i]\n",
    "        else:\n",
    "            df_ratings[\"rating_of_drama_movies\"][i] = 100\n",
    "            df_ratings[\"rating_of_action_movies\"][i] = 100\n",
    "    i=i+1"
   ]
  },
  {
   "cell_type": "markdown",
   "metadata": {},
   "source": [
    "In the below code segment, I created a new DataFrame. This will be the dataset I use mainly. It has unique userId, this is its difference from rating.csv data. In the next code segment, I calculated average ratings these users voted for both Drama and Action included movies, diversely. \n",
    "\"numdrama\" and \"numaction\" columns are the number of movies this user voted which includes Drama and Action in its genre, respectively."
   ]
  },
  {
   "cell_type": "code",
   "execution_count": 55,
   "metadata": {},
   "outputs": [
    {
     "data": {
      "text/plain": [
       "(702, 5)"
      ]
     },
     "execution_count": 55,
     "metadata": {},
     "output_type": "execute_result"
    }
   ],
   "source": [
    "# initialize list of lists \n",
    "data = list(dict.fromkeys(df_ratings[\"userId\"])) \n",
    "  \n",
    "# Create the pandas DataFrame \n",
    "df = pd.DataFrame(data, columns = ['userId']) \n",
    "df[\"numdrama\"] = np.zeros(len(df[\"userId\"]))\n",
    "df[\"numaction\"] = np.zeros(len(df[\"userId\"]))\n",
    "df[\"drama_rating\"] = np.zeros(len(df[\"userId\"]))\n",
    "df[\"action_rating\"] = np.zeros(len(df[\"userId\"]))\n",
    "\n",
    "# print dataframe. \n",
    "df.shape\n",
    "\n"
   ]
  },
  {
   "cell_type": "code",
   "execution_count": 56,
   "metadata": {},
   "outputs": [],
   "source": [
    "i=0\n",
    "while i< len(df_ratings[\"userId\"]):\n",
    "    if(df_ratings[\"rating_of_drama_movies\"][i]!=100 or df_ratings[\"rating_of_action_movies\"][i]!=100):\n",
    "        if(df_ratings[\"rating_of_drama_movies\"][i]!=100):\n",
    "            a = df[\"drama_rating\"][df[\"userId\"]==df_ratings[\"userId\"][i]]\n",
    "            b = df[\"numdrama\"][df[\"userId\"]==df_ratings[\"userId\"][i]]\n",
    "            df[\"drama_rating\"][df[\"userId\"]==df_ratings[\"userId\"][i]] = (a*b+df_ratings[\"rating_of_drama_movies\"][i])/(b+1)\n",
    "            df[\"numdrama\"][df[\"userId\"]==df_ratings[\"userId\"][i]] = df[\"numdrama\"][df[\"userId\"]==df_ratings[\"userId\"][i]]+1\n",
    "        elif(df_ratings[\"rating_of_action_movies\"][i]!=100):\n",
    "            a = df[\"action_rating\"][df[\"userId\"]==df_ratings[\"userId\"][i]]\n",
    "            b = df[\"numaction\"][df[\"userId\"]==df_ratings[\"userId\"][i]]\n",
    "            df[\"action_rating\"][df[\"userId\"]==df_ratings[\"userId\"][i]] = (a*b+df_ratings[\"rating_of_action_movies\"][i])/(b+1)\n",
    "            df[\"numaction\"][df[\"userId\"]==df_ratings[\"userId\"][i]] = df[\"numaction\"][df[\"userId\"]==df_ratings[\"userId\"][i]]+1\n",
    "    i=i+1\n",
    "    \n",
    "            \n",
    "        "
   ]
  },
  {
   "cell_type": "code",
   "execution_count": 57,
   "metadata": {},
   "outputs": [
    {
     "data": {
      "text/html": [
       "<div>\n",
       "<style scoped>\n",
       "    .dataframe tbody tr th:only-of-type {\n",
       "        vertical-align: middle;\n",
       "    }\n",
       "\n",
       "    .dataframe tbody tr th {\n",
       "        vertical-align: top;\n",
       "    }\n",
       "\n",
       "    .dataframe thead th {\n",
       "        text-align: right;\n",
       "    }\n",
       "</style>\n",
       "<table border=\"1\" class=\"dataframe\">\n",
       "  <thead>\n",
       "    <tr style=\"text-align: right;\">\n",
       "      <th></th>\n",
       "      <th>userId</th>\n",
       "      <th>numdrama</th>\n",
       "      <th>numaction</th>\n",
       "      <th>drama_rating</th>\n",
       "      <th>action_rating</th>\n",
       "    </tr>\n",
       "  </thead>\n",
       "  <tbody>\n",
       "    <tr>\n",
       "      <th>0</th>\n",
       "      <td>1</td>\n",
       "      <td>76.0</td>\n",
       "      <td>22.0</td>\n",
       "      <td>3.723684</td>\n",
       "      <td>3.704545</td>\n",
       "    </tr>\n",
       "    <tr>\n",
       "      <th>1</th>\n",
       "      <td>2</td>\n",
       "      <td>27.0</td>\n",
       "      <td>8.0</td>\n",
       "      <td>4.259259</td>\n",
       "      <td>3.750000</td>\n",
       "    </tr>\n",
       "    <tr>\n",
       "      <th>2</th>\n",
       "      <td>3</td>\n",
       "      <td>78.0</td>\n",
       "      <td>19.0</td>\n",
       "      <td>4.051282</td>\n",
       "      <td>4.368421</td>\n",
       "    </tr>\n",
       "    <tr>\n",
       "      <th>3</th>\n",
       "      <td>4</td>\n",
       "      <td>11.0</td>\n",
       "      <td>4.0</td>\n",
       "      <td>3.636364</td>\n",
       "      <td>3.750000</td>\n",
       "    </tr>\n",
       "    <tr>\n",
       "      <th>4</th>\n",
       "      <td>5</td>\n",
       "      <td>29.0</td>\n",
       "      <td>10.0</td>\n",
       "      <td>4.310345</td>\n",
       "      <td>4.300000</td>\n",
       "    </tr>\n",
       "    <tr>\n",
       "      <th>5</th>\n",
       "      <td>6</td>\n",
       "      <td>11.0</td>\n",
       "      <td>0.0</td>\n",
       "      <td>3.454545</td>\n",
       "      <td>0.000000</td>\n",
       "    </tr>\n",
       "    <tr>\n",
       "      <th>6</th>\n",
       "      <td>7</td>\n",
       "      <td>113.0</td>\n",
       "      <td>25.0</td>\n",
       "      <td>3.283186</td>\n",
       "      <td>3.640000</td>\n",
       "    </tr>\n",
       "    <tr>\n",
       "      <th>7</th>\n",
       "      <td>8</td>\n",
       "      <td>30.0</td>\n",
       "      <td>7.0</td>\n",
       "      <td>3.833333</td>\n",
       "      <td>4.428571</td>\n",
       "    </tr>\n",
       "    <tr>\n",
       "      <th>8</th>\n",
       "      <td>9</td>\n",
       "      <td>15.0</td>\n",
       "      <td>4.0</td>\n",
       "      <td>3.400000</td>\n",
       "      <td>2.750000</td>\n",
       "    </tr>\n",
       "    <tr>\n",
       "      <th>9</th>\n",
       "      <td>10</td>\n",
       "      <td>20.0</td>\n",
       "      <td>4.0</td>\n",
       "      <td>3.900000</td>\n",
       "      <td>4.000000</td>\n",
       "    </tr>\n",
       "    <tr>\n",
       "      <th>10</th>\n",
       "      <td>11</td>\n",
       "      <td>158.0</td>\n",
       "      <td>28.0</td>\n",
       "      <td>4.113924</td>\n",
       "      <td>4.196429</td>\n",
       "    </tr>\n",
       "    <tr>\n",
       "      <th>11</th>\n",
       "      <td>12</td>\n",
       "      <td>11.0</td>\n",
       "      <td>4.0</td>\n",
       "      <td>3.636364</td>\n",
       "      <td>3.250000</td>\n",
       "    </tr>\n",
       "    <tr>\n",
       "      <th>12</th>\n",
       "      <td>13</td>\n",
       "      <td>28.0</td>\n",
       "      <td>6.0</td>\n",
       "      <td>3.642857</td>\n",
       "      <td>4.166667</td>\n",
       "    </tr>\n",
       "    <tr>\n",
       "      <th>13</th>\n",
       "      <td>14</td>\n",
       "      <td>96.0</td>\n",
       "      <td>22.0</td>\n",
       "      <td>3.786458</td>\n",
       "      <td>3.886364</td>\n",
       "    </tr>\n",
       "    <tr>\n",
       "      <th>14</th>\n",
       "      <td>15</td>\n",
       "      <td>21.0</td>\n",
       "      <td>8.0</td>\n",
       "      <td>3.238095</td>\n",
       "      <td>3.250000</td>\n",
       "    </tr>\n",
       "    <tr>\n",
       "      <th>15</th>\n",
       "      <td>16</td>\n",
       "      <td>24.0</td>\n",
       "      <td>3.0</td>\n",
       "      <td>3.791667</td>\n",
       "      <td>4.000000</td>\n",
       "    </tr>\n",
       "    <tr>\n",
       "      <th>16</th>\n",
       "      <td>17</td>\n",
       "      <td>13.0</td>\n",
       "      <td>2.0</td>\n",
       "      <td>4.076923</td>\n",
       "      <td>4.000000</td>\n",
       "    </tr>\n",
       "    <tr>\n",
       "      <th>17</th>\n",
       "      <td>18</td>\n",
       "      <td>39.0</td>\n",
       "      <td>12.0</td>\n",
       "      <td>3.500000</td>\n",
       "      <td>3.166667</td>\n",
       "    </tr>\n",
       "    <tr>\n",
       "      <th>18</th>\n",
       "      <td>19</td>\n",
       "      <td>22.0</td>\n",
       "      <td>5.0</td>\n",
       "      <td>3.818182</td>\n",
       "      <td>4.000000</td>\n",
       "    </tr>\n",
       "    <tr>\n",
       "      <th>19</th>\n",
       "      <td>20</td>\n",
       "      <td>11.0</td>\n",
       "      <td>4.0</td>\n",
       "      <td>3.409091</td>\n",
       "      <td>3.875000</td>\n",
       "    </tr>\n",
       "    <tr>\n",
       "      <th>20</th>\n",
       "      <td>21</td>\n",
       "      <td>75.0</td>\n",
       "      <td>15.0</td>\n",
       "      <td>3.733333</td>\n",
       "      <td>3.666667</td>\n",
       "    </tr>\n",
       "    <tr>\n",
       "      <th>21</th>\n",
       "      <td>22</td>\n",
       "      <td>61.0</td>\n",
       "      <td>11.0</td>\n",
       "      <td>3.606557</td>\n",
       "      <td>3.636364</td>\n",
       "    </tr>\n",
       "    <tr>\n",
       "      <th>22</th>\n",
       "      <td>23</td>\n",
       "      <td>49.0</td>\n",
       "      <td>11.0</td>\n",
       "      <td>4.000000</td>\n",
       "      <td>3.272727</td>\n",
       "    </tr>\n",
       "    <tr>\n",
       "      <th>23</th>\n",
       "      <td>24</td>\n",
       "      <td>225.0</td>\n",
       "      <td>60.0</td>\n",
       "      <td>3.284444</td>\n",
       "      <td>3.366667</td>\n",
       "    </tr>\n",
       "    <tr>\n",
       "      <th>24</th>\n",
       "      <td>25</td>\n",
       "      <td>45.0</td>\n",
       "      <td>13.0</td>\n",
       "      <td>3.622222</td>\n",
       "      <td>3.730769</td>\n",
       "    </tr>\n",
       "    <tr>\n",
       "      <th>25</th>\n",
       "      <td>26</td>\n",
       "      <td>25.0</td>\n",
       "      <td>7.0</td>\n",
       "      <td>3.640000</td>\n",
       "      <td>3.571429</td>\n",
       "    </tr>\n",
       "    <tr>\n",
       "      <th>26</th>\n",
       "      <td>27</td>\n",
       "      <td>32.0</td>\n",
       "      <td>6.0</td>\n",
       "      <td>3.828125</td>\n",
       "      <td>4.083333</td>\n",
       "    </tr>\n",
       "    <tr>\n",
       "      <th>27</th>\n",
       "      <td>28</td>\n",
       "      <td>16.0</td>\n",
       "      <td>2.0</td>\n",
       "      <td>2.937500</td>\n",
       "      <td>3.500000</td>\n",
       "    </tr>\n",
       "    <tr>\n",
       "      <th>28</th>\n",
       "      <td>29</td>\n",
       "      <td>70.0</td>\n",
       "      <td>29.0</td>\n",
       "      <td>3.528571</td>\n",
       "      <td>3.517241</td>\n",
       "    </tr>\n",
       "    <tr>\n",
       "      <th>29</th>\n",
       "      <td>30</td>\n",
       "      <td>8.0</td>\n",
       "      <td>3.0</td>\n",
       "      <td>2.500000</td>\n",
       "      <td>1.333333</td>\n",
       "    </tr>\n",
       "    <tr>\n",
       "      <th>...</th>\n",
       "      <td>...</td>\n",
       "      <td>...</td>\n",
       "      <td>...</td>\n",
       "      <td>...</td>\n",
       "      <td>...</td>\n",
       "    </tr>\n",
       "    <tr>\n",
       "      <th>672</th>\n",
       "      <td>673</td>\n",
       "      <td>88.0</td>\n",
       "      <td>25.0</td>\n",
       "      <td>3.795455</td>\n",
       "      <td>4.200000</td>\n",
       "    </tr>\n",
       "    <tr>\n",
       "      <th>673</th>\n",
       "      <td>674</td>\n",
       "      <td>17.0</td>\n",
       "      <td>4.0</td>\n",
       "      <td>3.705882</td>\n",
       "      <td>4.000000</td>\n",
       "    </tr>\n",
       "    <tr>\n",
       "      <th>674</th>\n",
       "      <td>675</td>\n",
       "      <td>89.0</td>\n",
       "      <td>23.0</td>\n",
       "      <td>3.865169</td>\n",
       "      <td>3.782609</td>\n",
       "    </tr>\n",
       "    <tr>\n",
       "      <th>675</th>\n",
       "      <td>676</td>\n",
       "      <td>16.0</td>\n",
       "      <td>2.0</td>\n",
       "      <td>4.562500</td>\n",
       "      <td>3.500000</td>\n",
       "    </tr>\n",
       "    <tr>\n",
       "      <th>676</th>\n",
       "      <td>677</td>\n",
       "      <td>19.0</td>\n",
       "      <td>2.0</td>\n",
       "      <td>3.631579</td>\n",
       "      <td>4.000000</td>\n",
       "    </tr>\n",
       "    <tr>\n",
       "      <th>677</th>\n",
       "      <td>678</td>\n",
       "      <td>130.0</td>\n",
       "      <td>36.0</td>\n",
       "      <td>3.776923</td>\n",
       "      <td>3.583333</td>\n",
       "    </tr>\n",
       "    <tr>\n",
       "      <th>678</th>\n",
       "      <td>679</td>\n",
       "      <td>11.0</td>\n",
       "      <td>1.0</td>\n",
       "      <td>3.272727</td>\n",
       "      <td>3.000000</td>\n",
       "    </tr>\n",
       "    <tr>\n",
       "      <th>679</th>\n",
       "      <td>680</td>\n",
       "      <td>49.0</td>\n",
       "      <td>5.0</td>\n",
       "      <td>4.112245</td>\n",
       "      <td>3.600000</td>\n",
       "    </tr>\n",
       "    <tr>\n",
       "      <th>680</th>\n",
       "      <td>681</td>\n",
       "      <td>13.0</td>\n",
       "      <td>1.0</td>\n",
       "      <td>3.538462</td>\n",
       "      <td>5.000000</td>\n",
       "    </tr>\n",
       "    <tr>\n",
       "      <th>681</th>\n",
       "      <td>682</td>\n",
       "      <td>30.0</td>\n",
       "      <td>10.0</td>\n",
       "      <td>3.900000</td>\n",
       "      <td>4.200000</td>\n",
       "    </tr>\n",
       "    <tr>\n",
       "      <th>682</th>\n",
       "      <td>683</td>\n",
       "      <td>18.0</td>\n",
       "      <td>3.0</td>\n",
       "      <td>3.722222</td>\n",
       "      <td>4.000000</td>\n",
       "    </tr>\n",
       "    <tr>\n",
       "      <th>683</th>\n",
       "      <td>684</td>\n",
       "      <td>11.0</td>\n",
       "      <td>1.0</td>\n",
       "      <td>4.454545</td>\n",
       "      <td>3.000000</td>\n",
       "    </tr>\n",
       "    <tr>\n",
       "      <th>684</th>\n",
       "      <td>685</td>\n",
       "      <td>36.0</td>\n",
       "      <td>6.0</td>\n",
       "      <td>4.472222</td>\n",
       "      <td>4.166667</td>\n",
       "    </tr>\n",
       "    <tr>\n",
       "      <th>685</th>\n",
       "      <td>686</td>\n",
       "      <td>24.0</td>\n",
       "      <td>8.0</td>\n",
       "      <td>3.000000</td>\n",
       "      <td>3.375000</td>\n",
       "    </tr>\n",
       "    <tr>\n",
       "      <th>686</th>\n",
       "      <td>687</td>\n",
       "      <td>8.0</td>\n",
       "      <td>3.0</td>\n",
       "      <td>3.437500</td>\n",
       "      <td>4.166667</td>\n",
       "    </tr>\n",
       "    <tr>\n",
       "      <th>687</th>\n",
       "      <td>688</td>\n",
       "      <td>89.0</td>\n",
       "      <td>21.0</td>\n",
       "      <td>3.741573</td>\n",
       "      <td>3.857143</td>\n",
       "    </tr>\n",
       "    <tr>\n",
       "      <th>688</th>\n",
       "      <td>689</td>\n",
       "      <td>130.0</td>\n",
       "      <td>24.0</td>\n",
       "      <td>3.580769</td>\n",
       "      <td>3.833333</td>\n",
       "    </tr>\n",
       "    <tr>\n",
       "      <th>689</th>\n",
       "      <td>690</td>\n",
       "      <td>48.0</td>\n",
       "      <td>14.0</td>\n",
       "      <td>4.062500</td>\n",
       "      <td>4.214286</td>\n",
       "    </tr>\n",
       "    <tr>\n",
       "      <th>690</th>\n",
       "      <td>691</td>\n",
       "      <td>19.0</td>\n",
       "      <td>2.0</td>\n",
       "      <td>3.947368</td>\n",
       "      <td>3.500000</td>\n",
       "    </tr>\n",
       "    <tr>\n",
       "      <th>691</th>\n",
       "      <td>692</td>\n",
       "      <td>6.0</td>\n",
       "      <td>1.0</td>\n",
       "      <td>4.333333</td>\n",
       "      <td>4.500000</td>\n",
       "    </tr>\n",
       "    <tr>\n",
       "      <th>692</th>\n",
       "      <td>693</td>\n",
       "      <td>28.0</td>\n",
       "      <td>5.0</td>\n",
       "      <td>3.482143</td>\n",
       "      <td>3.600000</td>\n",
       "    </tr>\n",
       "    <tr>\n",
       "      <th>693</th>\n",
       "      <td>694</td>\n",
       "      <td>102.0</td>\n",
       "      <td>13.0</td>\n",
       "      <td>3.970588</td>\n",
       "      <td>4.153846</td>\n",
       "    </tr>\n",
       "    <tr>\n",
       "      <th>694</th>\n",
       "      <td>695</td>\n",
       "      <td>13.0</td>\n",
       "      <td>2.0</td>\n",
       "      <td>3.423077</td>\n",
       "      <td>4.000000</td>\n",
       "    </tr>\n",
       "    <tr>\n",
       "      <th>695</th>\n",
       "      <td>696</td>\n",
       "      <td>36.0</td>\n",
       "      <td>5.0</td>\n",
       "      <td>3.527778</td>\n",
       "      <td>3.400000</td>\n",
       "    </tr>\n",
       "    <tr>\n",
       "      <th>696</th>\n",
       "      <td>697</td>\n",
       "      <td>25.0</td>\n",
       "      <td>7.0</td>\n",
       "      <td>3.380000</td>\n",
       "      <td>3.714286</td>\n",
       "    </tr>\n",
       "    <tr>\n",
       "      <th>697</th>\n",
       "      <td>698</td>\n",
       "      <td>10.0</td>\n",
       "      <td>4.0</td>\n",
       "      <td>4.500000</td>\n",
       "      <td>5.000000</td>\n",
       "    </tr>\n",
       "    <tr>\n",
       "      <th>698</th>\n",
       "      <td>699</td>\n",
       "      <td>126.0</td>\n",
       "      <td>32.0</td>\n",
       "      <td>3.531746</td>\n",
       "      <td>3.625000</td>\n",
       "    </tr>\n",
       "    <tr>\n",
       "      <th>699</th>\n",
       "      <td>700</td>\n",
       "      <td>65.0</td>\n",
       "      <td>16.0</td>\n",
       "      <td>3.253846</td>\n",
       "      <td>3.281250</td>\n",
       "    </tr>\n",
       "    <tr>\n",
       "      <th>700</th>\n",
       "      <td>701</td>\n",
       "      <td>8.0</td>\n",
       "      <td>5.0</td>\n",
       "      <td>3.437500</td>\n",
       "      <td>3.400000</td>\n",
       "    </tr>\n",
       "    <tr>\n",
       "      <th>701</th>\n",
       "      <td>702</td>\n",
       "      <td>90.0</td>\n",
       "      <td>23.0</td>\n",
       "      <td>2.788889</td>\n",
       "      <td>3.173913</td>\n",
       "    </tr>\n",
       "  </tbody>\n",
       "</table>\n",
       "<p>702 rows × 5 columns</p>\n",
       "</div>"
      ],
      "text/plain": [
       "     userId  numdrama  numaction  drama_rating  action_rating\n",
       "0         1      76.0       22.0      3.723684       3.704545\n",
       "1         2      27.0        8.0      4.259259       3.750000\n",
       "2         3      78.0       19.0      4.051282       4.368421\n",
       "3         4      11.0        4.0      3.636364       3.750000\n",
       "4         5      29.0       10.0      4.310345       4.300000\n",
       "5         6      11.0        0.0      3.454545       0.000000\n",
       "6         7     113.0       25.0      3.283186       3.640000\n",
       "7         8      30.0        7.0      3.833333       4.428571\n",
       "8         9      15.0        4.0      3.400000       2.750000\n",
       "9        10      20.0        4.0      3.900000       4.000000\n",
       "10       11     158.0       28.0      4.113924       4.196429\n",
       "11       12      11.0        4.0      3.636364       3.250000\n",
       "12       13      28.0        6.0      3.642857       4.166667\n",
       "13       14      96.0       22.0      3.786458       3.886364\n",
       "14       15      21.0        8.0      3.238095       3.250000\n",
       "15       16      24.0        3.0      3.791667       4.000000\n",
       "16       17      13.0        2.0      4.076923       4.000000\n",
       "17       18      39.0       12.0      3.500000       3.166667\n",
       "18       19      22.0        5.0      3.818182       4.000000\n",
       "19       20      11.0        4.0      3.409091       3.875000\n",
       "20       21      75.0       15.0      3.733333       3.666667\n",
       "21       22      61.0       11.0      3.606557       3.636364\n",
       "22       23      49.0       11.0      4.000000       3.272727\n",
       "23       24     225.0       60.0      3.284444       3.366667\n",
       "24       25      45.0       13.0      3.622222       3.730769\n",
       "25       26      25.0        7.0      3.640000       3.571429\n",
       "26       27      32.0        6.0      3.828125       4.083333\n",
       "27       28      16.0        2.0      2.937500       3.500000\n",
       "28       29      70.0       29.0      3.528571       3.517241\n",
       "29       30       8.0        3.0      2.500000       1.333333\n",
       "..      ...       ...        ...           ...            ...\n",
       "672     673      88.0       25.0      3.795455       4.200000\n",
       "673     674      17.0        4.0      3.705882       4.000000\n",
       "674     675      89.0       23.0      3.865169       3.782609\n",
       "675     676      16.0        2.0      4.562500       3.500000\n",
       "676     677      19.0        2.0      3.631579       4.000000\n",
       "677     678     130.0       36.0      3.776923       3.583333\n",
       "678     679      11.0        1.0      3.272727       3.000000\n",
       "679     680      49.0        5.0      4.112245       3.600000\n",
       "680     681      13.0        1.0      3.538462       5.000000\n",
       "681     682      30.0       10.0      3.900000       4.200000\n",
       "682     683      18.0        3.0      3.722222       4.000000\n",
       "683     684      11.0        1.0      4.454545       3.000000\n",
       "684     685      36.0        6.0      4.472222       4.166667\n",
       "685     686      24.0        8.0      3.000000       3.375000\n",
       "686     687       8.0        3.0      3.437500       4.166667\n",
       "687     688      89.0       21.0      3.741573       3.857143\n",
       "688     689     130.0       24.0      3.580769       3.833333\n",
       "689     690      48.0       14.0      4.062500       4.214286\n",
       "690     691      19.0        2.0      3.947368       3.500000\n",
       "691     692       6.0        1.0      4.333333       4.500000\n",
       "692     693      28.0        5.0      3.482143       3.600000\n",
       "693     694     102.0       13.0      3.970588       4.153846\n",
       "694     695      13.0        2.0      3.423077       4.000000\n",
       "695     696      36.0        5.0      3.527778       3.400000\n",
       "696     697      25.0        7.0      3.380000       3.714286\n",
       "697     698      10.0        4.0      4.500000       5.000000\n",
       "698     699     126.0       32.0      3.531746       3.625000\n",
       "699     700      65.0       16.0      3.253846       3.281250\n",
       "700     701       8.0        5.0      3.437500       3.400000\n",
       "701     702      90.0       23.0      2.788889       3.173913\n",
       "\n",
       "[702 rows x 5 columns]"
      ]
     },
     "execution_count": 57,
     "metadata": {},
     "output_type": "execute_result"
    }
   ],
   "source": [
    "df"
   ]
  },
  {
   "cell_type": "code",
   "execution_count": 58,
   "metadata": {},
   "outputs": [
    {
     "name": "stdout",
     "output_type": "stream",
     "text": [
      "number of rows in ratings data: 702, number of columns in ratings data: 5\n"
     ]
    }
   ],
   "source": [
    "n_rows, n_columns = df.shape  # get the shape of dataframe\n",
    "print(\"number of rows in ratings data: {}, number of columns in ratings data: {}\".format(n_rows, n_columns))"
   ]
  },
  {
   "cell_type": "code",
   "execution_count": 59,
   "metadata": {
    "scrolled": true
   },
   "outputs": [
    {
     "data": {
      "image/png": "[encoded data removed]",
      "text/plain": [
       "<Figure size 432x288 with 1 Axes>"
      ]
     },
     "metadata": {
      "needs_background": "light"
     },
     "output_type": "display_data"
    }
   ],
   "source": [
    "drama_high = df[(df[\"drama_rating\"] > 3.5)]\n",
    "action_low = df[(df[\"action_rating\"] < 3.5)]\n",
    "\n",
    "ax = sns.kdeplot(drama_high[\"userId\"].rename(\"high_for_drama\"), shade=True)\n",
    "sns.kdeplot(action_low[\"userId\"].rename(\"low_for_action\"), ax=ax, shade=True)\n",
    "\n",
    "plt.show()"
   ]
  },
  {
   "cell_type": "markdown",
   "metadata": {},
   "source": [
    "I try to prove that rating high for one genre will be rating low for other genre. Above, graph is according to rating high for Drama and low for Action.\n",
    "Now, I applied a significance test to statistically approve this difference. Here, we created two different samples, extracting values only for users which rated high for drama movies. They rated for action movies aswell. We compare mean of drama with mean of action in scope of users that rated high for drama. Since we have two samples, we simply decided to apply two-sample t-test to show that two eras are different.\n",
    "Below, you may find the hypothesis statements.\n",
    "\n",
    "\n",
    "$H_0 \\rightarrow \\mu_{ratings-for-action-movies} = \\mu_{ratings-for-drama-movies}$  \n",
    "$H_A \\rightarrow \\mu_{ratings-for-action-movies} \\neq \\mu_{ratings-for-drama-movies}$"
   ]
  },
  {
   "cell_type": "code",
   "execution_count": 60,
   "metadata": {},
   "outputs": [],
   "source": [
    "# extracting values only for users which rated high for drama movies.\n",
    "drama = drama_high[\"drama_rating\"].values\n",
    "action = drama_high[\"action_rating\"].values"
   ]
  },
  {
   "cell_type": "code",
   "execution_count": 61,
   "metadata": {},
   "outputs": [
    {
     "data": {
      "text/plain": [
       "Ttest_indResult(statistic=2.947813420785039, pvalue=0.0033385778154450554)"
      ]
     },
     "execution_count": 61,
     "metadata": {},
     "output_type": "execute_result"
    }
   ],
   "source": [
    "stats.ttest_ind(drama, action, equal_var=False)  \n",
    "# since we have not equal variances"
   ]
  },
  {
   "cell_type": "markdown",
   "metadata": {},
   "source": [
    "We set the significance level as 0.05 as general.  \n",
    "Based on the value of obtained p_value, we can **reject** the null hypothesis. In addition, the test score is positive which indicates that the mean score for students who completed the course is higher than those who did not."
   ]
  },
  {
   "cell_type": "markdown",
   "metadata": {},
   "source": [
    "# Second Phase of the Project\n",
    "## Machine Learning Techniques\n",
    "\n",
    "Outcome: Blog, Github and PDF\n",
    "\n",
    "- Buiding two Models with a ML technique (decision tree vs.)\n",
    "       \n",
    "     I have built models with decision tree(classification) and k-nn\n",
    "\n",
    "- Verify your Models (it does not have to be successful)\n",
    "\n",
    "- Describe which one performs better and why. Try to describe which features works best for each ML Technique. (linear regression will not be counted as a ML Technique)"
   ]
  },
  {
   "cell_type": "markdown",
   "metadata": {},
   "source": [
    "# Decision Tree\n",
    "\n",
    "Decision trees are supervised Machine Learning algorithms. In the code, algorithm fits our data to the pretrained tree model and works on learning using this model. "
   ]
  },
  {
   "cell_type": "markdown",
   "metadata": {},
   "source": [
    "I will use classification, So I shoul have two values for features that will be learned. So, I change my rating data to high and low values which will be referred as 1 and 0 respectively. When rating is bigger than 3.5, it is high rated(1) and when less than 3.5, low rated(0). Below two code segments are for this pupose."
   ]
  },
  {
   "cell_type": "code",
   "execution_count": 62,
   "metadata": {},
   "outputs": [],
   "source": [
    "i=0\n",
    "for element in df[\"drama_rating\"]:\n",
    "    if element<3.5:\n",
    "        df[\"drama_rating\"][df[\"drama_rating\"].index[i]]= 0\n",
    "    else:\n",
    "        df[\"drama_rating\"][df[\"drama_rating\"].index[i]]=1\n",
    "    i=i+1"
   ]
  },
  {
   "cell_type": "code",
   "execution_count": 63,
   "metadata": {},
   "outputs": [],
   "source": [
    "i=0\n",
    "for element in df[\"action_rating\"]:\n",
    "    if element<3.5:\n",
    "        df[\"action_rating\"][df[\"action_rating\"].index[i]]= 0\n",
    "    else:\n",
    "        df[\"action_rating\"][df[\"drama_rating\"].index[i]]=1\n",
    "    i=i+1"
   ]
  },
  {
   "cell_type": "code",
   "execution_count": 64,
   "metadata": {},
   "outputs": [
    {
     "data": {
      "text/html": [
       "<div>\n",
       "<style scoped>\n",
       "    .dataframe tbody tr th:only-of-type {\n",
       "        vertical-align: middle;\n",
       "    }\n",
       "\n",
       "    .dataframe tbody tr th {\n",
       "        vertical-align: top;\n",
       "    }\n",
       "\n",
       "    .dataframe thead th {\n",
       "        text-align: right;\n",
       "    }\n",
       "</style>\n",
       "<table border=\"1\" class=\"dataframe\">\n",
       "  <thead>\n",
       "    <tr style=\"text-align: right;\">\n",
       "      <th></th>\n",
       "      <th>userId</th>\n",
       "      <th>numdrama</th>\n",
       "      <th>numaction</th>\n",
       "      <th>drama_rating</th>\n",
       "      <th>action_rating</th>\n",
       "    </tr>\n",
       "  </thead>\n",
       "  <tbody>\n",
       "    <tr>\n",
       "      <th>0</th>\n",
       "      <td>1</td>\n",
       "      <td>76.0</td>\n",
       "      <td>22.0</td>\n",
       "      <td>1.0</td>\n",
       "      <td>1.0</td>\n",
       "    </tr>\n",
       "    <tr>\n",
       "      <th>1</th>\n",
       "      <td>2</td>\n",
       "      <td>27.0</td>\n",
       "      <td>8.0</td>\n",
       "      <td>1.0</td>\n",
       "      <td>1.0</td>\n",
       "    </tr>\n",
       "    <tr>\n",
       "      <th>2</th>\n",
       "      <td>3</td>\n",
       "      <td>78.0</td>\n",
       "      <td>19.0</td>\n",
       "      <td>1.0</td>\n",
       "      <td>1.0</td>\n",
       "    </tr>\n",
       "    <tr>\n",
       "      <th>3</th>\n",
       "      <td>4</td>\n",
       "      <td>11.0</td>\n",
       "      <td>4.0</td>\n",
       "      <td>1.0</td>\n",
       "      <td>1.0</td>\n",
       "    </tr>\n",
       "    <tr>\n",
       "      <th>4</th>\n",
       "      <td>5</td>\n",
       "      <td>29.0</td>\n",
       "      <td>10.0</td>\n",
       "      <td>1.0</td>\n",
       "      <td>1.0</td>\n",
       "    </tr>\n",
       "  </tbody>\n",
       "</table>\n",
       "</div>"
      ],
      "text/plain": [
       "   userId  numdrama  numaction  drama_rating  action_rating\n",
       "0       1      76.0       22.0           1.0            1.0\n",
       "1       2      27.0        8.0           1.0            1.0\n",
       "2       3      78.0       19.0           1.0            1.0\n",
       "3       4      11.0        4.0           1.0            1.0\n",
       "4       5      29.0       10.0           1.0            1.0"
      ]
     },
     "execution_count": 64,
     "metadata": {},
     "output_type": "execute_result"
    }
   ],
   "source": [
    "df.head()"
   ]
  },
  {
   "cell_type": "markdown",
   "metadata": {},
   "source": [
    "I am using the data I have created(df) which includes userId, number of ratings done and average ratings for certain genres. \n",
    "\n",
    "I am interested in drama ratings of the data. To be more precise, I will ask if the user ranked low or high for the movies with genres that includes Drama.(on average of course since we have created this data using average values.)\n",
    "My decision label should be \"drama_rating\" column.\n",
    "We can use other data as features to predict the decision label"
   ]
  },
  {
   "cell_type": "code",
   "execution_count": 65,
   "metadata": {},
   "outputs": [],
   "source": [
    "# We can divide decision label and features as;\n",
    "X = df.drop('drama_rating', axis=1) # these are features\n",
    "y = df['drama_rating']              # this is what we want to predict"
   ]
  },
  {
   "cell_type": "code",
   "execution_count": 66,
   "metadata": {},
   "outputs": [],
   "source": [
    "from sklearn.model_selection import train_test_split\n",
    "\n",
    "# This will create us train and test datasets from the original dataset that we have where\n",
    "# 70% of original dataframe will be train set and 30% of it will be test set to evaluate the Decision Tree\n",
    "X_train, X_test, y_train, y_test = train_test_split(X, y, random_state=42, test_size=0.30)\n"
   ]
  },
  {
   "cell_type": "code",
   "execution_count": 67,
   "metadata": {},
   "outputs": [],
   "source": [
    "from sklearn import tree\n",
    "\n",
    "model = tree.DecisionTreeClassifier()"
   ]
  },
  {
   "cell_type": "code",
   "execution_count": 68,
   "metadata": {},
   "outputs": [
    {
     "data": {
      "text/plain": [
       "DecisionTreeClassifier(class_weight=None, criterion='gini', max_depth=None,\n",
       "            max_features=None, max_leaf_nodes=None,\n",
       "            min_impurity_decrease=0.0, min_impurity_split=None,\n",
       "            min_samples_leaf=1, min_samples_split=2,\n",
       "            min_weight_fraction_leaf=0.0, presort=False, random_state=None,\n",
       "            splitter='best')"
      ]
     },
     "execution_count": 68,
     "metadata": {},
     "output_type": "execute_result"
    }
   ],
   "source": [
    "model.fit(X_train, y_train)"
   ]
  },
  {
   "cell_type": "code",
   "execution_count": 69,
   "metadata": {},
   "outputs": [],
   "source": [
    "y_predict = model.predict(X_test)"
   ]
  },
  {
   "cell_type": "code",
   "execution_count": 70,
   "metadata": {},
   "outputs": [
    {
     "data": {
      "text/plain": [
       "0.6777251184834123"
      ]
     },
     "execution_count": 70,
     "metadata": {},
     "output_type": "execute_result"
    }
   ],
   "source": [
    "from sklearn.metrics import accuracy_score\n",
    "\n",
    "accuracy_score(y_test, y_predict)"
   ]
  },
  {
   "cell_type": "code",
   "execution_count": 71,
   "metadata": {},
   "outputs": [
    {
     "data": {
      "text/plain": [
       "array([[ 42,  31],\n",
       "       [ 37, 101]], dtype=int64)"
      ]
     },
     "execution_count": 71,
     "metadata": {},
     "output_type": "execute_result"
    }
   ],
   "source": [
    "from sklearn.metrics import confusion_matrix\n",
    "confusion_matrix(y_test, y_predict)"
   ]
  },
  {
   "cell_type": "code",
   "execution_count": 72,
   "metadata": {},
   "outputs": [
    {
     "data": {
      "text/html": [
       "<div>\n",
       "<style scoped>\n",
       "    .dataframe tbody tr th:only-of-type {\n",
       "        vertical-align: middle;\n",
       "    }\n",
       "\n",
       "    .dataframe tbody tr th {\n",
       "        vertical-align: top;\n",
       "    }\n",
       "\n",
       "    .dataframe thead th {\n",
       "        text-align: right;\n",
       "    }\n",
       "</style>\n",
       "<table border=\"1\" class=\"dataframe\">\n",
       "  <thead>\n",
       "    <tr style=\"text-align: right;\">\n",
       "      <th></th>\n",
       "      <th>Predicted low rate</th>\n",
       "      <th>Predicted high rate</th>\n",
       "    </tr>\n",
       "  </thead>\n",
       "  <tbody>\n",
       "    <tr>\n",
       "      <th>True low rate</th>\n",
       "      <td>42</td>\n",
       "      <td>31</td>\n",
       "    </tr>\n",
       "    <tr>\n",
       "      <th>True high rate</th>\n",
       "      <td>37</td>\n",
       "      <td>101</td>\n",
       "    </tr>\n",
       "  </tbody>\n",
       "</table>\n",
       "</div>"
      ],
      "text/plain": [
       "                Predicted low rate  Predicted high rate\n",
       "True low rate                   42                   31\n",
       "True high rate                  37                  101"
      ]
     },
     "execution_count": 72,
     "metadata": {},
     "output_type": "execute_result"
    }
   ],
   "source": [
    "pd.DataFrame(\n",
    "    confusion_matrix(y_test, y_predict),\n",
    "    columns=['Predicted low rate', 'Predicted high rate'],\n",
    "    index=['True low rate', 'True high rate'])"
   ]
  },
  {
   "cell_type": "markdown",
   "metadata": {},
   "source": [
    "# K-Nearest Neighbors Algorithm"
   ]
  },
  {
   "cell_type": "code",
   "execution_count": 73,
   "metadata": {},
   "outputs": [
    {
     "data": {
      "text/plain": [
       "KNeighborsClassifier(algorithm='auto', leaf_size=30, metric='minkowski',\n",
       "           metric_params=None, n_jobs=None, n_neighbors=5, p=2,\n",
       "           weights='uniform')"
      ]
     },
     "execution_count": 73,
     "metadata": {},
     "output_type": "execute_result"
    }
   ],
   "source": [
    "from sklearn.neighbors import KNeighborsClassifier\n",
    "\n",
    "# Let's try with k = 5\n",
    "knn = KNeighborsClassifier(n_neighbors=5)\n",
    "knn.fit(X_train, y_train)"
   ]
  },
  {
   "cell_type": "code",
   "execution_count": 74,
   "metadata": {},
   "outputs": [],
   "source": [
    "# We can use our model to predict values in the test as\n",
    "y_pred = knn.predict(X_test)"
   ]
  },
  {
   "cell_type": "code",
   "execution_count": 75,
   "metadata": {},
   "outputs": [
    {
     "name": "stdout",
     "output_type": "stream",
     "text": [
      "Accuracy of the model with k = 5 : 0.5781990521327014\n"
     ]
    }
   ],
   "source": [
    "# Checking the performance of the model with accuracy score;\n",
    "from sklearn import metrics\n",
    "\n",
    "print(\"Accuracy of the model with k = 5 :\",metrics.accuracy_score(y_test, y_pred))"
   ]
  },
  {
   "cell_type": "code",
   "execution_count": 76,
   "metadata": {},
   "outputs": [
    {
     "name": "stdout",
     "output_type": "stream",
     "text": [
      "Accuracy of the model with k = 7 : 0.5829383886255924\n"
     ]
    }
   ],
   "source": [
    "# Trying with k = 7\n",
    "knn_7 = KNeighborsClassifier(n_neighbors=7)\n",
    "knn_7.fit(X_train, y_train)\n",
    "\n",
    "y_pred_7 = knn_7.predict(X_test)\n",
    "print(\"Accuracy of the model with k = 7 :\",metrics.accuracy_score(y_test, y_pred_7))"
   ]
  },
  {
   "cell_type": "code",
   "execution_count": 77,
   "metadata": {},
   "outputs": [],
   "source": [
    "accuracy_list = []\n",
    "for k in range (1, 25):\n",
    "    knn = KNeighborsClassifier(n_neighbors = k)\n",
    "    knn.fit(X_train, y_train)\n",
    "    y_pred = knn.predict(X_test)\n",
    "    accuracy_list.append(metrics.accuracy_score(y_test, y_pred))"
   ]
  },
  {
   "cell_type": "code",
   "execution_count": 78,
   "metadata": {},
   "outputs": [
    {
     "data": {
      "image/png": "[encoded data removed]",
      "text/plain": [
       "<Figure size 864x432 with 1 Axes>"
      ]
     },
     "metadata": {
      "needs_background": "light"
     },
     "output_type": "display_data"
    }
   ],
   "source": [
    "plt.figure(figsize=(12, 6))  \n",
    "plt.plot(range(1, 25), accuracy_list, color='black', linestyle='dashed', marker='o',  \n",
    "         markerfacecolor='red', markersize=10)\n",
    "plt.title('Accuracy of the Model w/ k-Value')  \n",
    "plt.xlabel('k-Value')  \n",
    "plt.ylabel('Accuracy') \n",
    "plt.show()"
   ]
  },
  {
   "cell_type": "code",
   "execution_count": 79,
   "metadata": {},
   "outputs": [],
   "source": [
    "normalized_df = (df-df.mean()) / df.std()"
   ]
  },
  {
   "cell_type": "code",
   "execution_count": 80,
   "metadata": {},
   "outputs": [
    {
     "data": {
      "text/html": [
       "<div>\n",
       "<style scoped>\n",
       "    .dataframe tbody tr th:only-of-type {\n",
       "        vertical-align: middle;\n",
       "    }\n",
       "\n",
       "    .dataframe tbody tr th {\n",
       "        vertical-align: top;\n",
       "    }\n",
       "\n",
       "    .dataframe thead th {\n",
       "        text-align: right;\n",
       "    }\n",
       "</style>\n",
       "<table border=\"1\" class=\"dataframe\">\n",
       "  <thead>\n",
       "    <tr style=\"text-align: right;\">\n",
       "      <th></th>\n",
       "      <th>userId</th>\n",
       "      <th>numdrama</th>\n",
       "      <th>numaction</th>\n",
       "      <th>drama_rating</th>\n",
       "      <th>action_rating</th>\n",
       "    </tr>\n",
       "  </thead>\n",
       "  <tbody>\n",
       "    <tr>\n",
       "      <th>0</th>\n",
       "      <td>-1.728353</td>\n",
       "      <td>0.236119</td>\n",
       "      <td>0.532721</td>\n",
       "      <td>0.757082</td>\n",
       "      <td>0.740868</td>\n",
       "    </tr>\n",
       "    <tr>\n",
       "      <th>1</th>\n",
       "      <td>-1.723422</td>\n",
       "      <td>-0.362276</td>\n",
       "      <td>-0.249293</td>\n",
       "      <td>0.757082</td>\n",
       "      <td>0.740868</td>\n",
       "    </tr>\n",
       "    <tr>\n",
       "      <th>2</th>\n",
       "      <td>-1.718491</td>\n",
       "      <td>0.260543</td>\n",
       "      <td>0.365146</td>\n",
       "      <td>0.757082</td>\n",
       "      <td>0.740868</td>\n",
       "    </tr>\n",
       "    <tr>\n",
       "      <th>3</th>\n",
       "      <td>-1.713560</td>\n",
       "      <td>-0.557670</td>\n",
       "      <td>-0.472725</td>\n",
       "      <td>0.757082</td>\n",
       "      <td>0.740868</td>\n",
       "    </tr>\n",
       "    <tr>\n",
       "      <th>4</th>\n",
       "      <td>-1.708628</td>\n",
       "      <td>-0.337852</td>\n",
       "      <td>-0.137576</td>\n",
       "      <td>0.757082</td>\n",
       "      <td>0.740868</td>\n",
       "    </tr>\n",
       "  </tbody>\n",
       "</table>\n",
       "</div>"
      ],
      "text/plain": [
       "     userId  numdrama  numaction  drama_rating  action_rating\n",
       "0 -1.728353  0.236119   0.532721      0.757082       0.740868\n",
       "1 -1.723422 -0.362276  -0.249293      0.757082       0.740868\n",
       "2 -1.718491  0.260543   0.365146      0.757082       0.740868\n",
       "3 -1.713560 -0.557670  -0.472725      0.757082       0.740868\n",
       "4 -1.708628 -0.337852  -0.137576      0.757082       0.740868"
      ]
     },
     "execution_count": 80,
     "metadata": {},
     "output_type": "execute_result"
    }
   ],
   "source": [
    "normalized_df.head()"
   ]
  },
  {
   "cell_type": "code",
   "execution_count": 81,
   "metadata": {},
   "outputs": [],
   "source": [
    "X_norm = normalized_df.drop('drama_rating', axis=1)\n",
    "\n",
    "# 75% for training and 25% for testing\n",
    "X_train, X_test, y_train, y_test = train_test_split(X_norm, y, test_size= 0.25, random_state = 42)"
   ]
  },
  {
   "cell_type": "code",
   "execution_count": 82,
   "metadata": {},
   "outputs": [
    {
     "name": "stdout",
     "output_type": "stream",
     "text": [
      "Accuracy of the model with k = 5 and using normalized features:  0.6704545454545454\n"
     ]
    }
   ],
   "source": [
    "knn = KNeighborsClassifier(n_neighbors=5)\n",
    "knn.fit(X_train, y_train)\n",
    "y_pred = knn.predict(X_test)\n",
    "\n",
    "print(\"Accuracy of the model with k = 5 and using normalized features: \",metrics.accuracy_score(y_test, y_pred))"
   ]
  },
  {
   "cell_type": "code",
   "execution_count": 83,
   "metadata": {},
   "outputs": [],
   "source": [
    "accuracy_list_norm = []\n",
    "for k in range (1, 25):\n",
    "    knn = KNeighborsClassifier(n_neighbors = k)\n",
    "    knn.fit(X_train, y_train)\n",
    "    y_pred = knn.predict(X_test)\n",
    "    accuracy_list_norm.append(metrics.accuracy_score(y_test, y_pred))"
   ]
  },
  {
   "cell_type": "code",
   "execution_count": 84,
   "metadata": {},
   "outputs": [
    {
     "data": {
      "image/png": "[encoded data removed]",
      "text/plain": [
       "<Figure size 864x432 with 1 Axes>"
      ]
     },
     "metadata": {
      "needs_background": "light"
     },
     "output_type": "display_data"
    }
   ],
   "source": [
    "plt.figure(figsize=(12, 6))  \n",
    "plt.plot(range(1, 25), accuracy_list_norm, color='blue', linestyle='dashed', marker='o',  \n",
    "         markerfacecolor='green', markersize=10)\n",
    "plt.title('Accuracy of the Model w/ k-Value')  \n",
    "plt.xlabel('k-Value')  \n",
    "plt.ylabel('Accuracy') \n",
    "plt.show()"
   ]
  },
  {
   "cell_type": "markdown",
   "metadata": {},
   "source": [
    "## Describe which one performs better and why. Describe which features works best for each ML Technique. \n",
    "\n",
    "I have obtained 0.6777251184834123 accuracy with decision tree model. With k-NN approach, I can have around 0.76 acurracy best with k=11.\n",
    "My accuracy result are less than wanted, if it would be more than 0.9 I would say training is successfull. This accuracy results are not bad, but not good either.\n",
    "I had better results using k-NN model since my data was more proper for this approach.\n",
    "\n",
    "k-NN is used for classification while decision tree can be used for both classification and regression.That means both can be used for classification. Since I have manipulated my data for classification, they are both usable for me.\n",
    "\n",
    "k-NN determines neighborhoods of the data. It assigns a distance metric. This is why when using k-NN, all features must be numeric. k-NN has low-cost while training and high-cost while prediction.\n",
    "\n",
    "Decision Tree classifier first build a classification model on the training dataset and then classify. We even used a created model and fit our data on it. However k-NN classifier does not build any classification model. It directly learns from the training instances (observations). It starts processing data only after it is given a test observation to classify. This approach is more lazy.\n",
    "\n",
    "Decision trees sometimes may cause overfitting which means it gives highly accurate output on training data, but low accurate output on test data. Decision trees typically don't improve over linear classifiers when we have lots of features. They may fail badly on problems that linear classifiers perform well on.\n",
    "\n",
    "My data uses action movies as features and drama movies as label. From previous works, we know this are correlated. So, our data is better when used with k-NN. \n",
    "\n"
   ]
  },
  {
   "cell_type": "code",
   "execution_count": null,
   "metadata": {},
   "outputs": [],
   "source": []
  }
 ],
 "metadata": {
  "kernelspec": {
   "display_name": "Python 3",
   "language": "python",
   "name": "python3"
  },
  "language_info": {
   "codemirror_mode": {
    "name": "ipython",
    "version": 3
   },
   "file_extension": ".py",
   "mimetype": "text/x-python",
   "name": "python",
   "nbconvert_exporter": "python",
   "pygments_lexer": "ipython3",
   "version": "3.7.1"
  }
 },
 "nbformat": 4,
 "nbformat_minor": 2
}
